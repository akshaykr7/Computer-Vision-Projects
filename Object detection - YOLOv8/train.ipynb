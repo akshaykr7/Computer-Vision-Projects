{
 "cells": [
  {
   "cell_type": "markdown",
   "id": "03387cb8",
   "metadata": {},
   "source": [
    "<h3 style=\"font-family:comic sans ms; text-align:center; color:blue\"> Missing parts detection using YOLOv8n model"
   ]
  },
  {
   "cell_type": "markdown",
   "id": "2e090d93",
   "metadata": {},
   "source": [
    "Install ultralytics library"
   ]
  },
  {
   "cell_type": "code",
   "execution_count": null,
   "id": "e39a01aa",
   "metadata": {},
   "outputs": [],
   "source": [
    "# ! pip install ultralytics"
   ]
  },
  {
   "cell_type": "markdown",
   "id": "fc6804e9",
   "metadata": {},
   "source": [
    "Load pretrained YOLOv8n model"
   ]
  },
  {
   "cell_type": "code",
   "execution_count": null,
   "id": "a73a95cd",
   "metadata": {},
   "outputs": [],
   "source": [
    "from ultralytics import YOLO\n",
    "\n",
    "model = YOLO(\"yolov8n.yaml\")"
   ]
  },
  {
   "cell_type": "markdown",
   "id": "6255d8cc",
   "metadata": {},
   "source": [
    "Edit data.yaml file accordingly\n",
    "\n",
    "[YOLO train setting docs](https://docs.ultralytics.com/modes/train/#train-settings)"
   ]
  },
  {
   "cell_type": "code",
   "execution_count": null,
   "id": "dec72cd5",
   "metadata": {},
   "outputs": [],
   "source": [
    "results = model.train(data='data.yaml', epochs=50)"
   ]
  }
 ],
 "metadata": {
  "kernelspec": {
   "display_name": "venv_ultralytics",
   "language": "python",
   "name": "python3"
  },
  "language_info": {
   "codemirror_mode": {
    "name": "ipython",
    "version": 3
   },
   "file_extension": ".py",
   "mimetype": "text/x-python",
   "name": "python",
   "nbconvert_exporter": "python",
   "pygments_lexer": "ipython3",
   "version": "3.12.9"
  }
 },
 "nbformat": 4,
 "nbformat_minor": 5
}
