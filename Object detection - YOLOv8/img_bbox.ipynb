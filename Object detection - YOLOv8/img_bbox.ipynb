{
 "cells": [
  {
   "cell_type": "markdown",
   "id": "d29a112c",
   "metadata": {},
   "source": [
    "Program to create bounding box on raw image using txt file"
   ]
  },
  {
   "cell_type": "code",
   "execution_count": null,
   "id": "e39a01aa",
   "metadata": {},
   "outputs": [],
   "source": [
    "import torch\n",
    "print(\"GPU Available:\", torch.cuda.is_available())\n",
    "print(\"GPU Name:\", torch.cuda.get_device_name(0) if torch.cuda.is_available() else \"No GPU\")"
   ]
  },
  {
   "cell_type": "code",
   "execution_count": null,
   "id": "a73a95cd",
   "metadata": {},
   "outputs": [],
   "source": [
    "import cv2\n",
    "import os\n",
    "import matplotlib.pyplot as plt\n",
    "\n",
    "# Define class colors\n",
    "class_colors = {\n",
    "                0: (0, 0, 255),     # Blue\n",
    "                1: (255, 255, 0),   # yellow\n",
    "                2: (255, 0, 0),     # red\n",
    "                3: (0, 250, 0),     # green\n",
    "                4: (255, 100, 0),   # orange\n",
    "                5: (0, 0, 0),       # black\n",
    "                6: (255, 255, 255), # white\n",
    "                }\n",
    "\n",
    "def show_image_with_bboxes(image_path, bbox_txt_path):\n",
    "    # Load image\n",
    "    image = cv2.imread(image_path)\n",
    "    image = cv2.cvtColor(image, cv2.COLOR_BGR2RGB)\n",
    "    h, w, _ = image.shape\n",
    "\n",
    "    # Read bounding boxes\n",
    "    with open(bbox_txt_path, 'r') as f:\n",
    "        lines = f.readlines()\n",
    "\n",
    "    for line in lines:\n",
    "        parts = line.strip().split()\n",
    "        if len(parts) != 5:\n",
    "            continue  # skip invalid lines\n",
    "\n",
    "        class_id, x_center, y_center, box_width, box_height = map(float, parts)\n",
    "        class_id = int(class_id)\n",
    "\n",
    "        # Convert normalized coordinates to absolute\n",
    "        x_center *= w\n",
    "        y_center *= h\n",
    "        box_width *= w\n",
    "        box_height *= h\n",
    "\n",
    "        # Get top-left and bottom-right points\n",
    "        x1 = int(x_center - box_width / 2)\n",
    "        y1 = int(y_center - box_height / 2)\n",
    "        x2 = int(x_center + box_width / 2)\n",
    "        y2 = int(y_center + box_height / 2)\n",
    "\n",
    "        # Get color based on class_id\n",
    "        color = class_colors.get(class_id, (255, 255, 255))  # Default: white\n",
    "\n",
    "        # Draw bounding box and label\n",
    "        cv2.rectangle(image, (x1, y1), (x2, y2), color=color, thickness=2)\n",
    "        cv2.putText(image, f'{class_id}', (x1, y1 - 10),\n",
    "                    cv2.FONT_HERSHEY_SIMPLEX, 0.7, color, 2)\n",
    "\n",
    "    # Display image\n",
    "    plt.figure(figsize=(8, 8))\n",
    "    plt.imshow(image)\n",
    "    plt.axis('off')\n",
    "    plt.show()"
   ]
  },
  {
   "cell_type": "markdown",
   "id": "e1917e5e",
   "metadata": {},
   "source": [
    "Change folder_path and file_name accordingly"
   ]
  },
  {
   "cell_type": "code",
   "execution_count": null,
   "id": "c3969a95",
   "metadata": {},
   "outputs": [],
   "source": [
    "# Example usage\n",
    "folder_path = r\"D:\\Main-folder\"\n",
    "file_name = \"filename\"\n",
    "\n",
    "img_path = os.path.join(folder_path, 'images', file_name) + \".jpg\"\n",
    "txt_path = os.path.join(folder_path, 'labels', file_name) + \".txt\"\n",
    "show_image_with_bboxes(img_path, txt_path)"
   ]
  }
 ],
 "metadata": {
  "kernelspec": {
   "display_name": "venv_ultralytics",
   "language": "python",
   "name": "python3"
  },
  "language_info": {
   "codemirror_mode": {
    "name": "ipython",
    "version": 3
   },
   "file_extension": ".py",
   "mimetype": "text/x-python",
   "name": "python",
   "nbconvert_exporter": "python",
   "pygments_lexer": "ipython3",
   "version": "3.12.9"
  }
 },
 "nbformat": 4,
 "nbformat_minor": 5
}
